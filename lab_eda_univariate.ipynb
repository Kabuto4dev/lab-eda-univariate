{
 "cells": [
  {
   "cell_type": "code",
   "execution_count": 1,
   "metadata": {},
   "outputs": [],
   "source": [
    "import pandas as pd\n",
    "import matplotlib.pyplot as plt\n",
    "import seaborn as sns\n",
    "import numpy as np\n",
    "\n",
    "%matplotlib inline"
   ]
  },
  {
   "cell_type": "code",
   "execution_count": 2,
   "metadata": {},
   "outputs": [],
   "source": [
    "# Loading amazon uk price prediction dataset\n",
    "amazon_prd_df = pd.read_csv(\"/Users/juanfransf/IRONHACK/COURSE/GitHub_LESSONS/5. WEEK 5/LABs WEEK 5/DAY 1/amz_uk_price_prediction_dataset.csv\")"
   ]
  },
  {
   "cell_type": "code",
   "execution_count": 3,
   "metadata": {},
   "outputs": [
    {
     "data": {
      "text/html": [
       "<div>\n",
       "<style scoped>\n",
       "    .dataframe tbody tr th:only-of-type {\n",
       "        vertical-align: middle;\n",
       "    }\n",
       "\n",
       "    .dataframe tbody tr th {\n",
       "        vertical-align: top;\n",
       "    }\n",
       "\n",
       "    .dataframe thead th {\n",
       "        text-align: right;\n",
       "    }\n",
       "</style>\n",
       "<table border=\"1\" class=\"dataframe\">\n",
       "  <thead>\n",
       "    <tr style=\"text-align: right;\">\n",
       "      <th></th>\n",
       "      <th>uid</th>\n",
       "      <th>asin</th>\n",
       "      <th>title</th>\n",
       "      <th>stars</th>\n",
       "      <th>reviews</th>\n",
       "      <th>price</th>\n",
       "      <th>isBestSeller</th>\n",
       "      <th>boughtInLastMonth</th>\n",
       "      <th>category</th>\n",
       "    </tr>\n",
       "  </thead>\n",
       "  <tbody>\n",
       "    <tr>\n",
       "      <th>0</th>\n",
       "      <td>1</td>\n",
       "      <td>B09B96TG33</td>\n",
       "      <td>Echo Dot (5th generation, 2022 release) | Big ...</td>\n",
       "      <td>4.7</td>\n",
       "      <td>15308</td>\n",
       "      <td>21.99</td>\n",
       "      <td>False</td>\n",
       "      <td>0</td>\n",
       "      <td>Hi-Fi Speakers</td>\n",
       "    </tr>\n",
       "    <tr>\n",
       "      <th>1</th>\n",
       "      <td>2</td>\n",
       "      <td>B01HTH3C8S</td>\n",
       "      <td>Anker Soundcore mini, Super-Portable Bluetooth...</td>\n",
       "      <td>4.7</td>\n",
       "      <td>98099</td>\n",
       "      <td>23.99</td>\n",
       "      <td>True</td>\n",
       "      <td>0</td>\n",
       "      <td>Hi-Fi Speakers</td>\n",
       "    </tr>\n",
       "    <tr>\n",
       "      <th>2</th>\n",
       "      <td>3</td>\n",
       "      <td>B09B8YWXDF</td>\n",
       "      <td>Echo Dot (5th generation, 2022 release) | Big ...</td>\n",
       "      <td>4.7</td>\n",
       "      <td>15308</td>\n",
       "      <td>21.99</td>\n",
       "      <td>False</td>\n",
       "      <td>0</td>\n",
       "      <td>Hi-Fi Speakers</td>\n",
       "    </tr>\n",
       "    <tr>\n",
       "      <th>3</th>\n",
       "      <td>4</td>\n",
       "      <td>B09B8T5VGV</td>\n",
       "      <td>Echo Dot with clock (5th generation, 2022 rele...</td>\n",
       "      <td>4.7</td>\n",
       "      <td>7205</td>\n",
       "      <td>31.99</td>\n",
       "      <td>False</td>\n",
       "      <td>0</td>\n",
       "      <td>Hi-Fi Speakers</td>\n",
       "    </tr>\n",
       "    <tr>\n",
       "      <th>4</th>\n",
       "      <td>5</td>\n",
       "      <td>B09WX6QD65</td>\n",
       "      <td>Introducing Echo Pop | Full sound compact Wi-F...</td>\n",
       "      <td>4.6</td>\n",
       "      <td>1881</td>\n",
       "      <td>17.99</td>\n",
       "      <td>False</td>\n",
       "      <td>0</td>\n",
       "      <td>Hi-Fi Speakers</td>\n",
       "    </tr>\n",
       "  </tbody>\n",
       "</table>\n",
       "</div>"
      ],
      "text/plain": [
       "   uid        asin                                              title  stars  \\\n",
       "0    1  B09B96TG33  Echo Dot (5th generation, 2022 release) | Big ...    4.7   \n",
       "1    2  B01HTH3C8S  Anker Soundcore mini, Super-Portable Bluetooth...    4.7   \n",
       "2    3  B09B8YWXDF  Echo Dot (5th generation, 2022 release) | Big ...    4.7   \n",
       "3    4  B09B8T5VGV  Echo Dot with clock (5th generation, 2022 rele...    4.7   \n",
       "4    5  B09WX6QD65  Introducing Echo Pop | Full sound compact Wi-F...    4.6   \n",
       "\n",
       "   reviews  price  isBestSeller  boughtInLastMonth        category  \n",
       "0    15308  21.99         False                  0  Hi-Fi Speakers  \n",
       "1    98099  23.99          True                  0  Hi-Fi Speakers  \n",
       "2    15308  21.99         False                  0  Hi-Fi Speakers  \n",
       "3     7205  31.99         False                  0  Hi-Fi Speakers  \n",
       "4     1881  17.99         False                  0  Hi-Fi Speakers  "
      ]
     },
     "execution_count": 3,
     "metadata": {},
     "output_type": "execute_result"
    }
   ],
   "source": [
    "# Display the first few rows of the dataset\n",
    "amazon_prd_df.head()"
   ]
  },
  {
   "cell_type": "code",
   "execution_count": 5,
   "metadata": {},
   "outputs": [
    {
     "data": {
      "text/plain": [
       "Sports & Outdoors                         836265\n",
       "Beauty                                     19312\n",
       "Handmade Clothing, Shoes & Accessories     19229\n",
       "Bath & Body                                19092\n",
       "Birthday Gifts                             18978\n",
       "                                           ...  \n",
       "Alexa Built-In Devices                       107\n",
       "Motorbike Chassis                            107\n",
       "Plugs                                        107\n",
       "Smart Home Security & Lighting               104\n",
       "Smart Speakers                                54\n",
       "Name: category, Length: 296, dtype: int64"
      ]
     },
     "execution_count": 5,
     "metadata": {},
     "output_type": "execute_result"
    }
   ],
   "source": [
    "#Part 1: Understanding Product Categories\n",
    "\n",
    "#Business Question: What are the most popular product categories on Amazon UK, and how do they compare in terms of listing frequency?\n",
    "\n",
    "    #1. Frequency Tables:\n",
    "     #   Generate a frequency table for the product category.\n",
    "\n",
    "frequency_table = amazon_prd_df['category'].value_counts()\n",
    "frequency_table\n"
   ]
  },
  {
   "cell_type": "code",
   "execution_count": 10,
   "metadata": {},
   "outputs": [
    {
     "data": {
      "text/plain": [
       "Sports & Outdoors                         836265\n",
       "Beauty                                     19312\n",
       "Handmade Clothing, Shoes & Accessories     19229\n",
       "Bath & Body                                19092\n",
       "Birthday Gifts                             18978\n",
       "Name: category, dtype: int64"
      ]
     },
     "execution_count": 10,
     "metadata": {},
     "output_type": "execute_result"
    }
   ],
   "source": [
    "\n",
    "     #   Which are the top 5 most listed product categories?\n",
    "\n",
    "top_5 = frequency_table.nlargest(5)\n",
    "top_5"
   ]
  },
  {
   "cell_type": "code",
   "execution_count": 15,
   "metadata": {},
   "outputs": [
    {
     "data": {
      "image/png": "[encoded data removed]",
      "text/plain": [
       "<Figure size 432x288 with 1 Axes>"
      ]
     },
     "metadata": {
      "needs_background": "light"
     },
     "output_type": "display_data"
    }
   ],
   "source": [
    "\n",
    "#2. Visualizations:\n",
    "\n",
    "#    Display the distribution of products across different categories using a bar chart. If you face problems understanding the chart, do it for a subset of top categories.\n",
    "\n",
    "sns.barplot(x=frequency_table.index, y=frequency_table.values, palette=\"Set3\");\n",
    "\n"
   ]
  },
  {
   "cell_type": "code",
   "execution_count": 14,
   "metadata": {},
   "outputs": [
    {
     "data": {
      "image/png": "[encoded data removed]",
      "text/plain": [
       "<Figure size 432x288 with 1 Axes>"
      ]
     },
     "metadata": {
      "needs_background": "light"
     },
     "output_type": "display_data"
    }
   ],
   "source": [
    "sns.barplot(x=top_5.index, y=top_5.values, palette=\"Set3\");"
   ]
  },
  {
   "cell_type": "code",
   "execution_count": 26,
   "metadata": {},
   "outputs": [
    {
     "data": {
      "text/plain": [
       "([<matplotlib.patches.Wedge at 0x7fd7c56d6ac0>,\n",
       "  <matplotlib.patches.Wedge at 0x7fd7c56e5280>,\n",
       "  <matplotlib.patches.Wedge at 0x7fd7c56e59a0>,\n",
       "  <matplotlib.patches.Wedge at 0x7fd7c56f1100>,\n",
       "  <matplotlib.patches.Wedge at 0x7fd7c56f1820>],\n",
       " [Text(1.095989795320367, 0.09384225356213624, 'Sports & Outdoors'),\n",
       "  Text(-1.0931356237794014, 0.12269681342406162, 'Beauty'),\n",
       "  Text(-1.099760665028727, -0.02294514448793374, 'Handmade Clothing, Shoes & Accessories'),\n",
       "  Text(-1.0871937777390317, -0.16736095615624738, 'Bath & Body'),\n",
       "  Text(-1.0560121991530333, -0.3079581712505356, 'Birthday Gifts')],\n",
       " [Text(0.597812615629291, 0.05118668376116522, '91.6%'),\n",
       "  Text(-0.5962557947887643, 0.06692553459494269, '2.1%'),\n",
       "  Text(-0.5998694536520328, -0.012515533357054765, '2.1%'),\n",
       "  Text(-0.5930147878576536, -0.09128779426704402, '2.1%'),\n",
       "  Text(-0.5760066540834727, -0.16797718431847394, '2.1%')])"
      ]
     },
     "execution_count": 26,
     "metadata": {},
     "output_type": "execute_result"
    },
    {
     "data": {
      "image/png": "[encoded data removed]",
      "text/plain": [
       "<Figure size 432x288 with 1 Axes>"
      ]
     },
     "metadata": {},
     "output_type": "display_data"
    }
   ],
   "source": [
    "#    For a subset of top categories, visualize their proportions using a pie chart. Does any category dominate the listings?\n",
    "plt.pie(top_5.values, labels=top_5.index, autopct='%1.1f%%', startangle=200)"
   ]
  },
  {
   "cell_type": "code",
   "execution_count": null,
   "metadata": {},
   "outputs": [],
   "source": [
    "# Sports & Outdoors domine with a 91,6%"
   ]
  },
  {
   "cell_type": "code",
   "execution_count": 27,
   "metadata": {},
   "outputs": [
    {
     "data": {
      "text/plain": [
       "(89.24380943985244, 19.09, 9.99)"
      ]
     },
     "execution_count": 27,
     "metadata": {},
     "output_type": "execute_result"
    }
   ],
   "source": [
    "# Part 2: Delving into Product Pricing\n",
    "\n",
    "# Business Question: How are products priced on Amazon UK, and are there specific price points or ranges that are more common?\n",
    "\n",
    "    #1. Measures of Centrality:\n",
    "        # Calculate the mean, median, and mode for the price of products.\n",
    "\n",
    "mean_price = amazon_prd_df['price'].mean()\n",
    "median_price = amazon_prd_df['price'].median()\n",
    "mode_price = amazon_prd_df['price'].mode()[0]\n",
    "\n",
    "mean_price, median_price, mode_price\n",
    "       "
   ]
  },
  {
   "cell_type": "code",
   "execution_count": null,
   "metadata": {},
   "outputs": [],
   "source": [
    "#  What's the average price point of products listed? How does this compare with the most common price point (mode)?\n",
    "\n",
    "# -- The average price is aprox. 89,24 and if we compare it with the common price (mode) we can observe a great diference with this value 9,99 "
   ]
  },
  {
   "cell_type": "code",
   "execution_count": 31,
   "metadata": {},
   "outputs": [
    {
     "data": {
      "text/plain": [
       "(119445.48532256528, 345.60886175352226, 100000.0)"
      ]
     },
     "execution_count": 31,
     "metadata": {},
     "output_type": "execute_result"
    }
   ],
   "source": [
    "\n",
    "    #2. Measures of Dispersion:\n",
    "        # Determine the variance, standard deviation, range, \n",
    "variance_price = amazon_prd_df['price'].var()\n",
    "std_dev_price = amazon_prd_df['price'].std()\n",
    "min_price = amazon_prd_df['price'].min()\n",
    "max_price = amazon_prd_df['price'].max()\n",
    "range_price = max_price - min_price\n",
    "\n",
    "variance_price, std_dev_price, range_price"
   ]
  },
  {
   "cell_type": "code",
   "execution_count": 34,
   "metadata": {},
   "outputs": [
    {
     "data": {
      "text/plain": [
       "36.0"
      ]
     },
     "execution_count": 34,
     "metadata": {},
     "output_type": "execute_result"
    }
   ],
   "source": [
    "# and interquartile range for product price.\n",
    "\n",
    "quantiles_price25 = amazon_prd_df['price'].quantile(0.25)\n",
    "quantiles_price75 = amazon_prd_df['price'].quantile(0.75)\n",
    "interquartile = quantiles_price75 - quantiles_price25\n",
    "\n",
    "interquartile"
   ]
  },
  {
   "cell_type": "code",
   "execution_count": null,
   "metadata": {},
   "outputs": [],
   "source": [
    " # How varied are the product prices? Are there any indicators of a significant spread in prices?\n",
    "\n",
    "# If we observe the range of prices we can see a great variation between maximum values and minimum. If we observe variance and standard deviation we can see that exist a great dispersion in relation to the mean\n",
    "# Most prices are within a relatively narrow range around the median, which is consistent with low price variability in this range. "
   ]
  },
  {
   "cell_type": "code",
   "execution_count": 35,
   "metadata": {},
   "outputs": [
    {
     "data": {
      "text/plain": [
       "<AxesSubplot:xlabel='price', ylabel='Count'>"
      ]
     },
     "execution_count": 35,
     "metadata": {},
     "output_type": "execute_result"
    },
    {
     "data": {
      "image/png": "[encoded data removed]",
      "text/plain": [
       "<Figure size 432x288 with 1 Axes>"
      ]
     },
     "metadata": {
      "needs_background": "light"
     },
     "output_type": "display_data"
    }
   ],
   "source": [
    "# 3. Visualizations:\n",
    "     # Is there a specific price range where most products fall? Plot a histogram to visualize the distribution of product prices. \n",
    "     #If its hard to read these diagrams, think why this is, and explain how it could be solved.\n",
    "sns.histplot(amazon_prd_df['price'], kde=True, bins=30, color=\"salmon\")"
   ]
  },
  {
   "cell_type": "code",
   "execution_count": 44,
   "metadata": {},
   "outputs": [
    {
     "data": {
      "text/plain": [
       "Low          2443484\n",
       "Medium           154\n",
       "High              11\n",
       "Very High          2\n",
       "Name: Price_category, dtype: int64"
      ]
     },
     "execution_count": 44,
     "metadata": {},
     "output_type": "execute_result"
    }
   ],
   "source": [
    "# The high variability of the prices as a continuous variable causes a significant difference between them and therefore the difficulty in interpreting the diagram\n",
    "# To try to make a clearer interpretation of the results of the graph, we can use the discretization of the values. \n",
    "\n",
    "# Discretizing 'SalePrice' into 4 categories\n",
    "bins = [0, 10000, 20000, 30000, amazon_prd_df['price'].max()]\n",
    "labels = ['Low', 'Medium', 'High', 'Very High']\n",
    "amazon_prd_df['Price_category'] = pd.cut(amazon_prd_df['price'], bins=bins, labels=labels, include_lowest=True)\n",
    "\n",
    "amazon_prd_df.Price_category.value_counts()"
   ]
  },
  {
   "cell_type": "code",
   "execution_count": 46,
   "metadata": {},
   "outputs": [
    {
     "data": {
      "text/plain": [
       "<AxesSubplot:>"
      ]
     },
     "execution_count": 46,
     "metadata": {},
     "output_type": "execute_result"
    },
    {
     "data": {
      "image/png": "[encoded data removed]",
      "text/plain": [
       "<Figure size 432x288 with 1 Axes>"
      ]
     },
     "metadata": {
      "needs_background": "light"
     },
     "output_type": "display_data"
    }
   ],
   "source": [
    "     # Are there products that are priced significantly higher than the rest? Use a box plot to showcase the spread and potential outliers in product pricing.\n",
    "\n",
    "sns.boxplot(data = amazon_prd_df['price'], color=\"lightblue\")"
   ]
  },
  {
   "cell_type": "code",
   "execution_count": 48,
   "metadata": {},
   "outputs": [
    {
     "data": {
      "text/plain": [
       "(2.152836472966905, 0.0, 0.0)"
      ]
     },
     "execution_count": 48,
     "metadata": {},
     "output_type": "execute_result"
    }
   ],
   "source": [
    "# Part 3: Unpacking Product Ratings\n",
    "\n",
    "#Business Question: How do customers rate products on Amazon UK, and are there any patterns or tendencies in the ratings?\n",
    "\n",
    "    #1. Measures of Centrality:\n",
    "        #Calculate the mean, median, and mode for the rating of products.\n",
    "mean_stars = amazon_prd_df['stars'].mean()\n",
    "median_stars = amazon_prd_df['stars'].median()\n",
    "mode_stars = amazon_prd_df['stars'].mode()[0]\n",
    "\n",
    "mean_stars, median_stars, mode_stars    "
   ]
  },
  {
   "cell_type": "code",
   "execution_count": null,
   "metadata": {},
   "outputs": [],
   "source": [
    "#How do customers generally rate products? Is there a common trend?\n",
    "# The rating is below the minimum rating to achieve an average rating of 2.15 out of 5. In addition, the trend indicates that the rating initiative is not very widespread since many \n",
    "#users leave it at zero. "
   ]
  },
  {
   "cell_type": "code",
   "execution_count": 49,
   "metadata": {},
   "outputs": [
    {
     "data": {
      "text/plain": [
       "(4.81743402976196, 2.1948653785054697, 4.4)"
      ]
     },
     "execution_count": 49,
     "metadata": {},
     "output_type": "execute_result"
    }
   ],
   "source": [
    "#  Measures of Dispersion:\n",
    "    #    Determine the variance, standard deviation, and interquartile range for product rating.\n",
    "\n",
    "variance_stars = amazon_prd_df['stars'].var()\n",
    "std_dev_stars = amazon_prd_df['stars'].std()\n",
    "quantiles_stars25 = amazon_prd_df['stars'].quantile(0.25)\n",
    "quantiles_stars75 = amazon_prd_df['stars'].quantile(0.75)\n",
    "interquartile_stars = quantiles_stars75 - quantiles_stars25\n",
    "\n",
    "variance_stars, std_dev_stars, interquartile_stars"
   ]
  },
  {
   "cell_type": "code",
   "execution_count": null,
   "metadata": {},
   "outputs": [],
   "source": [
    "    #   Are the ratings consistent, or is there a wide variation in customer feedback?\n",
    "\n",
    "#We can say that the product ratings show a considerable variation. The high variance and standard deviation suggest that the ratings tend to be quite dispersed around the mean. \n",
    "#Additionally, the interquartile range of 4.4 indicates that there is substantial variation in the ratings within the interquartile range, supporting the idea that there is a wide \n",
    "#variation in customer ratings."
   ]
  },
  {
   "cell_type": "code",
   "execution_count": 51,
   "metadata": {},
   "outputs": [
    {
     "data": {
      "text/plain": [
       "(0.08120735761080985, -1.9260061280432985)"
      ]
     },
     "execution_count": 51,
     "metadata": {},
     "output_type": "execute_result"
    }
   ],
   "source": [
    " #3. Shape of the Distribution:\n",
    "     #   Calculate the skewness and kurtosis for the rating column.\n",
    "skewness_stars = amazon_prd_df['stars'].skew()\n",
    "kurtosis_stars = amazon_prd_df['stars'].kurtosis()\n",
    "\n",
    "skewness_stars, kurtosis_stars\n",
    "\n",
    "     #   Are the ratings normally distributed, or do they lean towards higher or lower values?\n",
    "# The values indicate that the distribution of product ratings tends to be slightly right-skewed and less peaked than a normal distribution."
   ]
  },
  {
   "cell_type": "code",
   "execution_count": 53,
   "metadata": {},
   "outputs": [
    {
     "data": {
      "text/plain": [
       "<AxesSubplot:xlabel='stars', ylabel='Count'>"
      ]
     },
     "execution_count": 53,
     "metadata": {},
     "output_type": "execute_result"
    },
    {
     "data": {
      "image/png": "[encoded data removed]",
      "text/plain": [
       "<Figure size 432x288 with 1 Axes>"
      ]
     },
     "metadata": {
      "needs_background": "light"
     },
     "output_type": "display_data"
    }
   ],
   "source": [
    "\n",
    "#4.    Visualizations:\n",
    "     #   Plot a histogram to visualize the distribution of product ratings. Is there a specific rating that is more common?\n",
    "sns.histplot(amazon_prd_df['stars'], kde=True, bins=30, color=\"salmon\")"
   ]
  },
  {
   "cell_type": "code",
   "execution_count": null,
   "metadata": {},
   "outputs": [],
   "source": [
    "#The most common rating is 0, but we can see on the other side that when the user rates the common rating moves between 4 and 5, with 5 being the highest rating."
   ]
  }
 ],
 "metadata": {
  "kernelspec": {
   "display_name": "Python 3",
   "language": "python",
   "name": "python3"
  },
  "language_info": {
   "codemirror_mode": {
    "name": "ipython",
    "version": 3
   },
   "file_extension": ".py",
   "mimetype": "text/x-python",
   "name": "python",
   "nbconvert_exporter": "python",
   "pygments_lexer": "ipython3",
   "version": "3.9.7"
  }
 },
 "nbformat": 4,
 "nbformat_minor": 2
}
